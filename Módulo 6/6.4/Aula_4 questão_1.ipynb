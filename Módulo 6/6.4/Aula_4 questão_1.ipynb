{
 "cells": [
  {
   "cell_type": "markdown",
   "metadata": {},
   "source": [
    "1) Escreva um script python que use compreensão de listas para criar as seguintes listas:\n",
    "Todos os números pares entre 20 e 50, ou seja, [20, 22, 24, …, 48, 50]\n",
    "Os quadrados de todos os valores da lista [1,2,3,4,5,6,7,8,9]\n",
    "Todos os números entre 1 e 100 que sejam divisíveis por 7\n",
    "Para todos os valores em range(0,30,3), escreva \"par\" ou \"ímpar\" dependendo da paridade do elemento (ex: ['par', 'impar',… , 'impar']) "
   ]
  },
  {
   "cell_type": "code",
   "execution_count": null,
   "metadata": {},
   "outputs": [],
   "source": []
  }
 ],
 "metadata": {
  "language_info": {
   "name": "python"
  }
 },
 "nbformat": 4,
 "nbformat_minor": 2
}
