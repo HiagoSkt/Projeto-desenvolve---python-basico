{
 "cells": [
  {
   "cell_type": "markdown",
   "metadata": {},
   "source": [
    "1) Escreva um script em Python que solicita do usuário uma quantidade indefinida de números inteiros (pelo menos 4 valores), os armazena em uma lista e, usando fatiamento de listas, imprima:\n",
    "A lista original\n",
    "Os 3 primeiros elementos\n",
    "Os 2 últimos elementos\n",
    "A lista invertida (do fim para o começo)\n",
    "Os elementos de índice par (0, 2, 4 … )\n",
    "Os elementos de índice ímpar (1, 3, 5, … )"
   ]
  },
  {
   "cell_type": "code",
   "execution_count": null,
   "metadata": {},
   "outputs": [],
   "source": []
  }
 ],
 "metadata": {
  "language_info": {
   "name": "python"
  }
 },
 "nbformat": 4,
 "nbformat_minor": 2
}
