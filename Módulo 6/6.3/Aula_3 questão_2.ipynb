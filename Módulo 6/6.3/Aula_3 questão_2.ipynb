{
 "cells": [
  {
   "cell_type": "markdown",
   "metadata": {},
   "source": [
    "2) Dada uma lista de endereços web (URLs) que sempre começam com \"www.\" e sempre terminam com \".com\", use o conceito de fatiamento de listas para criar uma lista domínios com o nome principal de todas as URLs, conforme exemplo a seguir.\n",
    "\n",
    "URLs: [\"www.google.com&quot;, \"www.gmail.com&quot;, \"www.github.com&quot;, \"www.reddit.com&quot;, \"www.yahoo.com&quot;]\n",
    "dominios:  [\"google\", \"gmail\", \"github\", \"reddit\", \"yahoo\"]\n"
   ]
  },
  {
   "cell_type": "code",
   "execution_count": null,
   "metadata": {},
   "outputs": [],
   "source": []
  }
 ],
 "metadata": {
  "language_info": {
   "name": "python"
  }
 },
 "nbformat": 4,
 "nbformat_minor": 2
}
