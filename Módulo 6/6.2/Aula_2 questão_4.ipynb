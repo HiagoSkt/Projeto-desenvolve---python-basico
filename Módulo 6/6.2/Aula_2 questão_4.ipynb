{
 "cells": [
  {
   "cell_type": "markdown",
   "metadata": {},
   "source": [
    "4) Crie um programa em Python que receba duas listas de números do usuário, podendo cada lista ter uma quantidade diferente de valores. Em seguida, combine essas duas listas de forma alternada para formar uma terceira lista. Intercale os elementos até o final da primeira lista, adicionando ao final os elementos remanescentes da maior lista.\n",
    "Exemplo de interação via terminal (entradas em negrito):\n",
    "Digite a quantidade de elementos da lista 1: 4\n",
    "Digite os 4 elementos da lista 1:\n",
    "1\n",
    "2\n",
    "3\n",
    "4Digite a quantidade de elementos da lista 2: 6\n",
    "Digite os 6 elementos da lista 2:\n",
    "5\n",
    "6\n",
    "7\n",
    "8\n",
    "9\n",
    "10Lista intercalada: 1 5 2 6 3 7 4 8 9 10"
   ]
  },
  {
   "cell_type": "code",
   "execution_count": null,
   "metadata": {},
   "outputs": [],
   "source": []
  }
 ],
 "metadata": {
  "language_info": {
   "name": "python"
  }
 },
 "nbformat": 4,
 "nbformat_minor": 2
}
