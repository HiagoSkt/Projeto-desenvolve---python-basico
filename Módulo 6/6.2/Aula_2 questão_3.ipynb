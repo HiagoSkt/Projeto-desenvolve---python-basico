{
 "cells": [
  {
   "cell_type": "markdown",
   "metadata": {},
   "source": [
    "3) Preencha duas listas (lista1, lista2) com 20 valores inteiros aleatórios entre 0 a 50. Crie uma terceira lista chamada interseccao contendo apenas os valores que se repetem nas duas listas. Ao final imprima:\n",
    "Ambas as listas\n",
    "A lista intersecção ordenada\n",
    "A quantidade de vezes que cada elemento aparece em cada lista\n",
    "Atenção, a lista de intersecções não pode ter duplicatas. Segue um exemplo da saída esperada.\n",
    "lista1 - [10, 10, 28, 10, 29, 20, 30, 10, 29, 11]\n",
    "lista2 - [11, 16, 26, 44, 11, 10, 20, 29, 10, 12]\n",
    "Interseccao - [10, 11, 20]\n",
    "Contagem\n",
    "10: (lista1=4, lista2=1)\n",
    "11: (lista1=1, lista2=2)\n",
    "20: (lista1=1, lista2=1)"
   ]
  },
  {
   "cell_type": "code",
   "execution_count": null,
   "metadata": {},
   "outputs": [],
   "source": []
  }
 ],
 "metadata": {
  "language_info": {
   "name": "python"
  }
 },
 "nbformat": 4,
 "nbformat_minor": 2
}
