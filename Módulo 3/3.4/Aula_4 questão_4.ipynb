{
 "cells": [
  {
   "cell_type": "markdown",
   "metadata": {},
   "source": [
    "4) Você está implementando um sistema de entrega expressa e precisa calcular o valor do frete com base na distância e no peso do pacote. Escreva um código que solicita a distância da entrega em quilômetros e o peso do pacote em quilogramas. O programa deve calcular e imprimir o valor do frete de acordo com as seguintes regras:\n",
    "Distância até 100 km: R$1 por kg.\n",
    "Distância entre 101 e 300 km: R$1.50 por kg.\n",
    "Distância acima de 300 km: R$2 por kg.\n",
    "Acrescente uma taxa de R$10 para pacotes com peso superior a 10 kg"
   ]
  },
  {
   "cell_type": "code",
   "execution_count": null,
   "metadata": {},
   "outputs": [],
   "source": []
  }
 ],
 "metadata": {
  "language_info": {
   "name": "python"
  }
 },
 "nbformat": 4,
 "nbformat_minor": 2
}
