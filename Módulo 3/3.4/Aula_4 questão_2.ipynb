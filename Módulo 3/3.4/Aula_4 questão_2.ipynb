{
 "cells": [
  {
   "cell_type": "markdown",
   "metadata": {},
   "source": [
    "2) Você está criando um sistema de classificação de filmes com base nas avaliações dos usuários. Escreva um programa em Python que solicita ao usuário para inserir a avaliação de um filme em uma escala de 1 a 5. O programa deve imprimir uma mensagem correspondente à classificação do filme:\n",
    "Se a avaliação for 5, imprima \"Excelente!\"\n",
    "Se a avaliação for 4, imprima \"Muito Bom!\"\n",
    "Se a avaliação for 3, imprima \"Bom!\"\n",
    "Se a avaliação for 2, imprima \"Regular.\"\n",
    "Se a avaliação for 1, imprima \"Ruim.\""
   ]
  },
  {
   "cell_type": "code",
   "execution_count": null,
   "metadata": {},
   "outputs": [],
   "source": []
  }
 ],
 "metadata": {
  "language_info": {
   "name": "python"
  }
 },
 "nbformat": 4,
 "nbformat_minor": 2
}
