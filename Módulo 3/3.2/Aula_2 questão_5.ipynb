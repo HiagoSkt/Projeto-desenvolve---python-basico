{
 "cells": [
  {
   "cell_type": "markdown",
   "metadata": {},
   "source": [
    "\n",
    "5) Solicite de um usuário seu gênero (\"M\" ou \"F\"), sua idade e seu tempo de serviço (em anos) e escreva uma expressão que imprima True se a pessoa já pode se aposentar, ou False caso contrário, de acordo com as seguintes regras:\n",
    "A: Para mulheres, ter mais de 60 anos. Para homens, 65.\n",
    "B: Ou ter trabalhado pelo menos 30 anos\n",
    "C: Ou ter 60 anos  e trabalhado pelo menos 25."
   ]
  },
  {
   "cell_type": "code",
   "execution_count": 5,
   "metadata": {},
   "outputs": [
    {
     "name": "stdout",
     "output_type": "stream",
     "text": [
      "True\n"
     ]
    }
   ],
   "source": [
    "Genêro = input()\n",
    "Idade = int(input())\n",
    "Tempo = int(input())\n",
    "\n",
    "a = (Genêro == 'm' and Idade >= 65) or (Genêro == 'f' and Idade >= 60)\n",
    "b = Tempo > 30\n",
    "c = Idade >= 65 and Tempo >= 25\n",
    "\n",
    "pode_aposentar = a or b or c\n",
    "\n",
    "print(pode_aposentar)\n",
    "    \n"
   ]
  }
 ],
 "metadata": {
  "kernelspec": {
   "display_name": "Python 3",
   "language": "python",
   "name": "python3"
  },
  "language_info": {
   "codemirror_mode": {
    "name": "ipython",
    "version": 3
   },
   "file_extension": ".py",
   "mimetype": "text/x-python",
   "name": "python",
   "nbconvert_exporter": "python",
   "pygments_lexer": "ipython3",
   "version": "3.11.9"
  }
 },
 "nbformat": 4,
 "nbformat_minor": 2
}
