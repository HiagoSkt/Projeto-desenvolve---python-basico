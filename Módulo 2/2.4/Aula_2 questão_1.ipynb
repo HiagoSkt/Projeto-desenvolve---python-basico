{
 "cells": [
  {
   "cell_type": "markdown",
   "metadata": {},
   "source": [
    "1) Faça um programa para ler as dimensões de um terreno em inteiros (comprimento e largura), bem como o preço do metro quadrado da região em ponto flutuante. Calcule o valor do terreno e imprima o resultado com a formatação apresentada a seguir.\n",
    "\n",
    "O terreno possui 250m2 e custa R$512,490.50\n",
    "\n",
    "Comente na linha acima de cada instrução uma breve descrição da instrução.\n",
    "\n",
    "Fórmulas:\n",
    "area_m2 = comprimento * largura\n",
    "preco_total = preco_m2 * area_m2"
   ]
  },
  {
   "cell_type": "code",
   "execution_count": 1,
   "metadata": {},
   "outputs": [],
   "source": [
    "comprimento = input(int())\n",
    "largura = input(int())\n",
    "preco_m2 = 512.490\n",
    "\n",
    "area_m2 = comprimento * largura\n",
    "preço_total = preco_m2 * area_m2\n",
    "\n",
    "print (preço_total)\n"
   ]
  }
 ],
 "metadata": {
  "kernelspec": {
   "display_name": "Python 3",
   "language": "python",
   "name": "python3"
  },
  "language_info": {
   "codemirror_mode": {
    "name": "ipython",
    "version": 3
   },
   "file_extension": ".py",
   "mimetype": "text/x-python",
   "name": "python",
   "nbconvert_exporter": "python",
   "pygments_lexer": "ipython3",
   "version": "3.11.9"
  }
 },
 "nbformat": 4,
 "nbformat_minor": 2
}
