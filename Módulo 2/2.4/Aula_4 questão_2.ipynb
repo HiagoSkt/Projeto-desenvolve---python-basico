{
 "cells": [
  {
   "cell_type": "markdown",
   "metadata": {},
   "source": [
    "2) Leia um valor inteiro correspondente a uma temperatura em graus Fahrenheit e apresente-a convertida em graus Celsius.\n",
    "Fórmula de conversão: C = (F - 32) * (5/9), sendo C o valor em graus Celsius e F o valor em Fahrenheit. Antes de imprimir, converta o valor em Celsius para inteiro. A mensagem deve estar formatada da seguinte maneira:\n",
    "\n",
    "86 graus Fahrenheit são 30 graus Celsius."
   ]
  },
  {
   "cell_type": "code",
   "execution_count": 2,
   "metadata": {},
   "outputs": [
    {
     "name": "stdout",
     "output_type": "stream",
     "text": [
      "80 graus Fahrenheit são 26 graus Celsius\n"
     ]
    }
   ],
   "source": [
    "Fahrenheit = int(input(\"Digite a temperatura em F\"))\n",
    "\n",
    "Celsius = (Fahrenheit - 32) * 5 / 9\n",
    "\n",
    "print(f\"{Fahrenheit} graus Fahrenheit são {int(Celsius)} graus Celsius\")"
   ]
  }
 ],
 "metadata": {
  "kernelspec": {
   "display_name": "Python 3",
   "language": "python",
   "name": "python3"
  },
  "language_info": {
   "codemirror_mode": {
    "name": "ipython",
    "version": 3
   },
   "file_extension": ".py",
   "mimetype": "text/x-python",
   "name": "python",
   "nbconvert_exporter": "python",
   "pygments_lexer": "ipython3",
   "version": "3.11.9"
  }
 },
 "nbformat": 4,
 "nbformat_minor": 2
}
