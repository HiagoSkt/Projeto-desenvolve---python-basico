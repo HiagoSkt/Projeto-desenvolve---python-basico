{
 "cells": [
  {
   "cell_type": "markdown",
   "metadata": {},
   "source": [
    "\n",
    "4) Escreva um programa que leia um valor inteiro referente a uma quantia em reais e calcule a menor quantidade possível de notas necessárias para pagar aquele valor. As notas possíveis são: 100, 50, 20, 10, 5, 2, 1. A saída deve estar formatada exatamente como indicado. \n",
    "\n",
    "Entrada:\n",
    "576\n",
    "\n",
    "Saída:\n",
    "5 nota(s) de R$100,00\n",
    "1 nota(s) de R$50,00\n",
    "1 nota(s) de R$20,00\n",
    "0 nota(s) de R$10,00\n",
    "1 nota(s) de R$5,00\n",
    "0 nota(s) de R$2,00\n",
    "1 nota(s) de R$1,00"
   ]
  },
  {
   "cell_type": "code",
   "execution_count": 3,
   "metadata": {},
   "outputs": [
    {
     "name": "stdout",
     "output_type": "stream",
     "text": [
      "2 notas de 100\n",
      "1 notas de 50\n",
      "1 notas de 20\n",
      "1 notas de 10\n",
      "1 notas de 5\n",
      "1 notas de 2\n",
      "1 notas de 1\n"
     ]
    }
   ],
   "source": [
    "Valor = int(input(\"Digite o valor\"))\n",
    "\n",
    "Notas_100 = Valor // 100\n",
    "Valor = Valor % 100\n",
    "\n",
    "Notas_50 = Valor // 50\n",
    "Valor = Valor % 50\n",
    "\n",
    "Notas_20 = Valor // 20\n",
    "Valor = Valor % 20\n",
    "\n",
    "Notas_10 = Valor // 10\n",
    "Valor = Valor % 10\n",
    "\n",
    "Notas_5 = Valor // 5\n",
    "Valor = Valor % 5\n",
    "\n",
    "Notas_2 = Valor // 2\n",
    "Valor = Valor % 2\n",
    "\n",
    "Notas_1 = Valor // 1\n",
    "Valor = Valor % 1\n",
    "\n",
    "print(f\"{Notas_100} notas de 100\")\n",
    "print(f\"{Notas_50} notas de 50\")\n",
    "print(f\"{Notas_20} notas de 20\")\n",
    "print(f\"{Notas_10} notas de 10\")\n",
    "print(f\"{Notas_5} notas de 5\")\n",
    "print(f\"{Notas_2} notas de 2\")\n",
    "print(f\"{Notas_1} notas de 1\")"
   ]
  }
 ],
 "metadata": {
  "kernelspec": {
   "display_name": "Python 3",
   "language": "python",
   "name": "python3"
  },
  "language_info": {
   "codemirror_mode": {
    "name": "ipython",
    "version": 3
   },
   "file_extension": ".py",
   "mimetype": "text/x-python",
   "name": "python",
   "nbconvert_exporter": "python",
   "pygments_lexer": "ipython3",
   "version": "3.11.9"
  }
 },
 "nbformat": 4,
 "nbformat_minor": 2
}
