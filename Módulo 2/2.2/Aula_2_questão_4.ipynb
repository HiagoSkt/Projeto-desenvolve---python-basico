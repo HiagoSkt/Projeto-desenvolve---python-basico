{
 "cells": [
  {
   "cell_type": "markdown",
   "metadata": {},
   "source": [
    "4) Uma conta poupança foi aberta com um depósito de R$500,00. Esta conta é remunerada em 1% de juros ao mês. O código a seguir apresenta uma forma de implementação para calcular três meses de acúmulo de juros. Reescreva esse código usando apenas duas variáveis. \n",
    "\n",
    "juros = 1.01\n",
    "saldo = 500.0\n",
    "rendimento1 = saldo * juros\n",
    "rendimento2 = rendimento1 * juros\n",
    "rendimento3 = rendimento2 * juros\n",
    "print(\"Após 3 meses meu novo saldo é\")\n",
    "print(rendimento3)"
   ]
  },
  {
   "cell_type": "code",
   "execution_count": 3,
   "metadata": {},
   "outputs": [
    {
     "name": "stdout",
     "output_type": "stream",
     "text": [
      "Após 3 meses meu saldo é:  515.1505\n"
     ]
    }
   ],
   "source": [
    "juros = 1.01\n",
    "saldo = 500\n",
    "\n",
    "saldo = saldo*juros #1\n",
    "saldo = saldo*juros #2\n",
    "saldo = saldo*juros #3\n",
    "print('Após 3 meses meu saldo é: ',saldo)\n",
    "\n"
   ]
  }
 ],
 "metadata": {
  "kernelspec": {
   "display_name": "Python 3",
   "language": "python",
   "name": "python3"
  },
  "language_info": {
   "codemirror_mode": {
    "name": "ipython",
    "version": 3
   },
   "file_extension": ".py",
   "mimetype": "text/x-python",
   "name": "python",
   "nbconvert_exporter": "python",
   "pygments_lexer": "ipython3",
   "version": "3.11.9"
  }
 },
 "nbformat": 4,
 "nbformat_minor": 2
}
