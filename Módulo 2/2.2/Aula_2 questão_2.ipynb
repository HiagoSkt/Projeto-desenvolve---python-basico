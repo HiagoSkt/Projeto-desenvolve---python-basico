{
 "cells": [
  {
   "cell_type": "markdown",
   "metadata": {},
   "source": [
    "2) Transforme o seguinte algoritmo em código. Lembre-se das funções print e type que já conhecemos de forma geral.\n",
    "Armazene o texto \"o resultado é\"  em uma variável, o valor 10 em outra variável, e o valor 3.5 numa terceira variável.\n",
    "Some os valores da segunda e terceira variável e armazene em outra variável.\n",
    "Imprima todas as variáveis na ordem de criação e imprima também seus tipos."
   ]
  },
  {
   "cell_type": "code",
   "execution_count": 6,
   "metadata": {},
   "outputs": [
    {
     "name": "stdout",
     "output_type": "stream",
     "text": [
      "13.5\n",
      "<class 'float'>\n",
      "10\n",
      "<class 'int'>\n",
      "3.5\n",
      "<class 'float'>\n"
     ]
    }
   ],
   "source": [
    "v1 = \"o resultado é\"\n",
    "v2 = 10\n",
    "v3 = 3.5\n",
    "\n",
    "v1 = v2+v3\n",
    "print (v1)\n",
    "print (type(v1))\n",
    "print (v2)\n",
    "print (type(v2))\n",
    "print (v3)\n",
    "print (type(v3))\n"
   ]
  }
 ],
 "metadata": {
  "kernelspec": {
   "display_name": "Python 3",
   "language": "python",
   "name": "python3"
  },
  "language_info": {
   "codemirror_mode": {
    "name": "ipython",
    "version": 3
   },
   "file_extension": ".py",
   "mimetype": "text/x-python",
   "name": "python",
   "nbconvert_exporter": "python",
   "pygments_lexer": "ipython3",
   "version": "3.11.9"
  }
 },
 "nbformat": 4,
 "nbformat_minor": 2
}
