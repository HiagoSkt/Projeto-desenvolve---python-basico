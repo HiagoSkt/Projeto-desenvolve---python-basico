{
 "cells": [
  {
   "cell_type": "markdown",
   "metadata": {},
   "source": [
    "5) Você está trabalhando em um sistema de mensagens instantâneas, que deve permitir o uso de emojis nas conversas entre pessoas. Faça:\n",
    "No terminal, instale a biblioteca emoji usando o gerenciador de pacotes pip\n",
    "$ pip install emoji\n",
    "\n",
    "\n",
    "Conheça a função emoji.emojize()\n",
    "Seu programa deve apresentar para o usuário a lista de emojis disponíveis com o texto correspondente a cada emoji. Em seguida, solicite uma frase codificada ao usuário e apresente ela decodificada com a visualização de emojis (emojizada).\n",
    "A seguir um exemplo de interação, com uma lista de emojis sugeridos. Você pode consultar o texto que codifica outros emojis indo nessa página e passando o mouse por cima do emoji desejado. \n",
    "Emojis disponíveis:\n",
    "❤️ - :red_heart:\n",
    "👍 - :thumbs_up:\n",
    "🤔 - :thinking_face:\n",
    "🥳 - :partying_face:\n",
    "\n",
    "Digite uma frase e ela será emojizada:\n",
    "Olá mundo! :red_heart:\n",
    "Frase emojizada:\n",
    "Olá mundo! ❤️    \n",
    "\n"
   ]
  },
  {
   "cell_type": "code",
   "execution_count": null,
   "metadata": {},
   "outputs": [],
   "source": []
  }
 ],
 "metadata": {
  "kernelspec": {
   "display_name": "Python 3",
   "language": "python",
   "name": "python3"
  },
  "language_info": {
   "codemirror_mode": {
    "name": "ipython",
    "version": 3
   },
   "file_extension": ".py",
   "mimetype": "text/x-python",
   "name": "python",
   "nbconvert_exporter": "python",
   "pygments_lexer": "ipython3",
   "version": "3.11.9"
  }
 },
 "nbformat": 4,
 "nbformat_minor": 2
}
