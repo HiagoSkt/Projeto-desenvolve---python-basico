{
 "cells": [
  {
   "cell_type": "markdown",
   "metadata": {},
   "source": [
    "3) Escreva um programa em Python que utiliza a biblioteca random para gerar um número aleatório entre 1 e 10 e peça ao usuário para adivinhar o número. Forneça feedback se o palpite é muito alto, muito baixo ou correto. Interrompa a execução somente quando o usuário acertar o palpite.\n",
    "Exemplo de interação:\n",
    "Adivinhe o número entre 1 e 10: 5\n",
    "Muito alto, tente novamente!\n",
    "Adivinhe o número entre 1 e 10: 3\n",
    "Correto! O número é 3."
   ]
  },
  {
   "cell_type": "code",
   "execution_count": null,
   "metadata": {},
   "outputs": [],
   "source": []
  }
 ],
 "metadata": {
  "language_info": {
   "name": "python"
  }
 },
 "nbformat": 4,
 "nbformat_minor": 2
}
